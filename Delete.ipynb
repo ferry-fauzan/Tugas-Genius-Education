{
 "cells": [
  {
   "cell_type": "code",
   "execution_count": 1,
   "id": "5ce1b3b9",
   "metadata": {},
   "outputs": [
    {
     "ename": "SyntaxError",
     "evalue": "EOL while scanning string literal (328054306.py, line 10)",
     "output_type": "error",
     "traceback": [
      "\u001b[1;36m  Input \u001b[1;32mIn [1]\u001b[1;36m\u001b[0m\n\u001b[1;33m    print(f'Kontak dengan urutan ke-{hapus}, Berhasil di hapus!n\\')\u001b[0m\n\u001b[1;37m                                                                   ^\u001b[0m\n\u001b[1;31mSyntaxError\u001b[0m\u001b[1;31m:\u001b[0m EOL while scanning string literal\n"
     ]
    }
   ],
   "source": [
    "def hapus_kontak():\n",
    "    print(' ')\n",
    "    if(len(kontak)==0):\n",
    "        print('Kontak Masih Kosong, silahkan menambahkan kontak!')\n",
    "        print(' ')\n",
    "    else:\n",
    "        hapus=int(input(' Masukkan Nomor Urut Kontak: '))\n",
    "        del kontak[hapus-1]\n",
    "        print(' ')\n",
    "        print(f'Kontak dengan urutan ke-{hapus}, Berhasil di hapus!n\\')\n",
    "              \n",
    "delete()"
   ]
  }
 ],
 "metadata": {
  "kernelspec": {
   "display_name": "Python 3 (ipykernel)",
   "language": "python",
   "name": "python3"
  },
  "language_info": {
   "codemirror_mode": {
    "name": "ipython",
    "version": 3
   },
   "file_extension": ".py",
   "mimetype": "text/x-python",
   "name": "python",
   "nbconvert_exporter": "python",
   "pygments_lexer": "ipython3",
   "version": "3.9.12"
  }
 },
 "nbformat": 4,
 "nbformat_minor": 5
}
