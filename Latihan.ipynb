{
 "cells": [
  {
   "cell_type": "code",
   "execution_count": 13,
   "id": "4e4957f6",
   "metadata": {},
   "outputs": [
    {
     "name": "stdout",
     "output_type": "stream",
     "text": [
      "Hai nama saya Ferry , Salam Kenal\n",
      "Luas Segitiga:  6.0\n"
     ]
    },
    {
     "data": {
      "text/plain": [
       "6.0"
      ]
     },
     "execution_count": 13,
     "metadata": {},
     "output_type": "execute_result"
    }
   ],
   "source": [
    "#tugas 1\n",
    "\n",
    "def sapa_nama(nama):\n",
    "     print(\"Hai nama saya\", nama,\", Salam Kenal\")\n",
    "\n",
    "sapa_nama(\"Ferry\")\n",
    "\n",
    "\n",
    "#a=int(input(\"Alas: \")\n",
    "#t=int(input(\"Tinggi: \")\n",
    "def luas_segitiga(a,t):\n",
    "    hitung_luas=(a*t)/2\n",
    "    print(\"Luas Segitiga: \", hitung_luas)\n",
    "    return hitung_luas\n",
    "          \n",
    "luas_segitiga(3,4)"
   ]
  },
  {
   "cell_type": "code",
   "execution_count": 14,
   "id": "5e1ff7ac",
   "metadata": {},
   "outputs": [],
   "source": [
    "#tugas 2\n",
    "import csv\n",
    "import pandas\n",
    "import numpy"
   ]
  },
  {
   "cell_type": "code",
   "execution_count": 1,
   "id": "097f68fe",
   "metadata": {},
   "outputs": [
    {
     "name": "stdout",
     "output_type": "stream",
     "text": [
      "Lingkaran dengan jari-jari 14 memiliki keliling 87.92\n"
     ]
    }
   ],
   "source": [
    "#tugas 3\n",
    "def keliling_lingkaran(radius):\n",
    "    keliling=2*3.14*radius\n",
    "    return keliling\n",
    "\n",
    "r=14\n",
    "kel=keliling_lingkaran(r)\n",
    "print(\"Lingkaran dengan jari-jari\",r,\"memiliki keliling\",kel)"
   ]
  },
  {
   "cell_type": "code",
   "execution_count": 4,
   "id": "0048eb8e",
   "metadata": {},
   "outputs": [
    {
     "name": "stdout",
     "output_type": "stream",
     "text": [
      "Masukkan nilai: 4\n",
      "4 = Genap\n",
      "Nilai ini adalah 6\n"
     ]
    }
   ],
   "source": [
    "#tugas 4\n",
    "def cek_angka(nilai):\n",
    "    if nilai%2==0:\n",
    "        print(nilai,\"= Genap\")\n",
    "        nilai +=2\n",
    "    else:\n",
    "        print(nilai,\"= Ganjil\")\n",
    "        nilai*=2\n",
    "    return nilai\n",
    "        \n",
    "angka=int(input(\"Masukkan nilai: \"))\n",
    "cek_nilai=cek_angka(angka)\n",
    "\n",
    "print(\"Nilai ini adalah\", cek_nilai)"
   ]
  }
 ],
 "metadata": {
  "kernelspec": {
   "display_name": "Python 3 (ipykernel)",
   "language": "python",
   "name": "python3"
  },
  "language_info": {
   "codemirror_mode": {
    "name": "ipython",
    "version": 3
   },
   "file_extension": ".py",
   "mimetype": "text/x-python",
   "name": "python",
   "nbconvert_exporter": "python",
   "pygments_lexer": "ipython3",
   "version": "3.9.12"
  }
 },
 "nbformat": 4,
 "nbformat_minor": 5
}
